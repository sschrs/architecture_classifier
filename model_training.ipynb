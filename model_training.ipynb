{
 "cells": [
  {
   "attachments": {},
   "cell_type": "markdown",
   "metadata": {},
   "source": [
    "# Creating Dataset and Folder Structure"
   ]
  },
  {
   "cell_type": "code",
   "execution_count": 1,
   "metadata": {},
   "outputs": [],
   "source": [
    "import os, shutil, glob\n",
    "\n",
    "dataset_dir = './arcDataset/' # original dataset directory path\n",
    "# create folder for dataset\n",
    "base_dir = './dataset'\n",
    "os.mkdir(base_dir)\n",
    "\n",
    "# create train folder\n",
    "train_dir = os.path.join(base_dir, 'train')\n",
    "os.mkdir(train_dir)\n",
    "\n",
    "# create test folder\n",
    "test_dir = os.path.join(base_dir, 'test')\n",
    "os.mkdir(test_dir)"
   ]
  },
  {
   "cell_type": "code",
   "execution_count": 3,
   "metadata": {},
   "outputs": [],
   "source": [
    "folder_names = os.listdir(dataset_dir)\n",
    "for folder_name in folder_names:\n",
    "    # ignore .DS_Store for macOS\n",
    "    if (folder_name == '.DS_Store'):\n",
    "        continue\n",
    "    \n",
    "    #create class folders\n",
    "    os.mkdir(os.path.join(train_dir, folder_name))\n",
    "    os.mkdir(os.path.join(test_dir, folder_name))\n",
    "\n",
    "    path = os.path.join(dataset_dir, folder_name, \"*\") # to glob relevant folder\n",
    "    image_paths = glob.glob(path) # lists the images in class folder\n",
    "\n",
    "    for i, image_path in enumerate(image_paths):\n",
    "        image_name = os.path.basename(image_path).split('/')[-1] # get file name\n",
    "\n",
    "        # Split 1/10 of the data for testing\n",
    "        if i % 10 == 0:\n",
    "            dst = os.path.join(test_dir, folder_name, image_name)\n",
    "        else:\n",
    "            dst = os.path.join(train_dir, folder_name, image_name)\n",
    "\n",
    "        shutil.copy(image_path, dst)"
   ]
  },
  {
   "attachments": {},
   "cell_type": "markdown",
   "metadata": {},
   "source": [
    "# Prepare Data for Keras with ImageDataGenerator"
   ]
  },
  {
   "cell_type": "code",
   "execution_count": 4,
   "metadata": {},
   "outputs": [
    {
     "name": "stdout",
     "output_type": "stream",
     "text": [
      "Found 3451 images belonging to 25 classes.\n",
      "Found 852 images belonging to 25 classes.\n",
      "Found 491 images belonging to 25 classes.\n"
     ]
    }
   ],
   "source": [
    "from keras.preprocessing.image import ImageDataGenerator\n",
    "\n",
    "train_datagen = ImageDataGenerator(validation_split=0.2) # data augmentation can be added\n",
    "test_datagen = ImageDataGenerator()\n",
    "\n",
    "# split validation and training data\n",
    "train_generator = train_datagen.flow_from_directory(train_dir, target_size=(224,224), batch_size=20, class_mode='categorical', subset='training')\n",
    "validation_generartor = train_datagen.flow_from_directory(train_dir, target_size=(224,224), batch_size=20, class_mode='categorical', subset='validation')\n",
    "\n",
    "test_generator = test_datagen.flow_from_directory(test_dir, target_size=(224,224), batch_size=20, class_mode='categorical')"
   ]
  },
  {
   "cell_type": "code",
   "execution_count": null,
   "metadata": {},
   "outputs": [],
   "source": []
  }
 ],
 "metadata": {
  "kernelspec": {
   "display_name": "tensorflow",
   "language": "python",
   "name": "python3"
  },
  "language_info": {
   "codemirror_mode": {
    "name": "ipython",
    "version": 3
   },
   "file_extension": ".py",
   "mimetype": "text/x-python",
   "name": "python",
   "nbconvert_exporter": "python",
   "pygments_lexer": "ipython3",
   "version": "3.10.11"
  },
  "orig_nbformat": 4
 },
 "nbformat": 4,
 "nbformat_minor": 2
}
